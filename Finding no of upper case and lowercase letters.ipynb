{
 "cells": [
  {
   "cell_type": "code",
   "execution_count": null,
   "metadata": {},
   "outputs": [],
   "source": [
    "s = input()\n",
    "UPPER=0\n",
    "LOWER=0\n",
    "for c in s:\n",
    "    if c.isupper():\n",
    "        UPPER+=1\n",
    "    elif c.islower():\n",
    "        LOWER+=1\n",
    "    else:\n",
    "        pass\n",
    "print (\"UPPER\", UPPER)\n",
    "print (\"LOWER\", LOWER)"
   ]
  }
 ],
 "metadata": {
  "kernelspec": {
   "display_name": "Python 3",
   "language": "python",
   "name": "python3"
  },
  "language_info": {
   "codemirror_mode": {
    "name": "ipython",
    "version": 3
   },
   "file_extension": ".py",
   "mimetype": "text/x-python",
   "name": "python",
   "nbconvert_exporter": "python",
   "pygments_lexer": "ipython3",
   "version": "3.7.0"
  }
 },
 "nbformat": 4,
 "nbformat_minor": 2
}
